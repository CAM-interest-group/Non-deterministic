{
 "cells": [
  {
   "cell_type": "markdown",
   "metadata": {},
   "source": [
    "# The Quadratic Assignment Problem"
   ]
  },
  {
   "cell_type": "code",
   "execution_count": 2,
   "metadata": {},
   "outputs": [],
   "source": [
    "##This is an initialization cell. Run this first\n",
    "import pandas as pd\n",
    "import numpy as np\n",
    "from itertools import product\n",
    "import time\n",
    "import math\n",
    "import matplotlib\n",
    "import matplotlib.pyplot as plt\n",
    "import random"
   ]
  },
  {
   "cell_type": "markdown",
   "metadata": {},
   "source": [
    "## Repository"
   ]
  },
  {
   "cell_type": "code",
   "execution_count": 3,
   "metadata": {},
   "outputs": [],
   "source": [
    "def CSVtoNumpyArray(rawdata):\n",
    "    \"\"\"\n",
    "    Input: \n",
    "    rawdata = a csv file (insert name as a string)\n",
    "\n",
    "    Output:\n",
    "    two numpy matrices in a tuple\n",
    "    \"\"\"\n",
    "    data = pd.read_csv(rawdata)  #Reads the data in as a pandas object\n",
    "    c = data.columns\n",
    "    column = int(c[0])\n",
    "    final_data1 = data.iloc[:column,:].values  #Sets data into a series of numpy arrays of strings\n",
    "    final_data2 = data.iloc[column:,:].values  #1 is for the first matrix(loc) and 2 is for the second(flow)\n",
    "    \n",
    "\n",
    "    #Forms the matrix as a numpy array (easier to work with) instead of an list of lists of strings\n",
    "    def string_to_integers(final_data):\n",
    "        matrix = []\n",
    "        for j in range(column):\n",
    "            string = final_data[j][0]\n",
    "            string2 = string.split(\" \")\n",
    "            emptyarray = []\n",
    "            for i in string2:\n",
    "                if i != '':\n",
    "                    emptyarray.append(int(i))\n",
    "            matrix.append(emptyarray)\n",
    "        npmatrix = np.array(matrix) \n",
    "        return npmatrix\n",
    "    return string_to_integers(final_data1),string_to_integers(final_data2)"
   ]
  },
  {
   "cell_type": "code",
   "execution_count": 4,
   "metadata": {},
   "outputs": [],
   "source": [
    "#REPOSITORY\n",
    "\n",
    "#small sized matrices(under 10x10)\n",
    "matrix_size_4 = 'tai4a.csv'\n",
    "matrix_size_5 = 'tai5a.csv'\n",
    "matrix_size_6 = 'tai6a.csv'\n",
    "matrix_size_7 = 'tai7a.csv'\n",
    "matrix_size_8 = 'tai8a.csv'\n",
    "matrix_size_9 = 'tai9a.csv'\n",
    "\n",
    "#medium sized matrices(ranging from 10x10 to 30x30)\n",
    "matrix_size_10 = 'tai10a.csv'\n",
    "matrix_size_11 = 'tai11a.csv'\n",
    "matrix_size_12 = 'tai12a.csv'\n",
    "matrix_size_15 = 'chr15a.csv' \n",
    "matrix_size_20 = 'chr20a.csv'\n",
    "matrix_size_26 = 'bur26a.csv'\n",
    "\n",
    "#large sized matrices(30x30 and bigger)\n",
    "matrix_size_40 = 'tai40a.csv'\n",
    "matrix_size_60 = 'tai60.csv'\n",
    "matrix_size_80 = 'tai80.csv'\n",
    "matrix_size_256 = 'tai256c.csv'\n",
    "\n",
    "datamatrix = CSVtoNumpyArray('tai4a.csv') # Decide the size of problem to run in the code \n",
    "                                            # (clue: the number in the original name is the size)\n",
    "MatrixLoc = datamatrix[0]\n",
    "MatrixFlow = datamatrix[1]"
   ]
  },
  {
   "cell_type": "markdown",
   "metadata": {},
   "source": [
    "## Preliminary functions"
   ]
  },
  {
   "cell_type": "code",
   "execution_count": 5,
   "metadata": {},
   "outputs": [],
   "source": [
    "def Exhaustive_search(listofpermutations,MatrixLoc,MatrixFlow):\n",
    "    \"\"\"\n",
    "    Input:\n",
    "    MatrixLoc\n",
    "    MatrixFlow\n",
    "    listofpermutations\n",
    "    \n",
    "    Output:\n",
    "    The optimal permutation\n",
    "    the optimal cost\n",
    "    in a tuple\n",
    "    \"\"\"\n",
    "    start = time.time()\n",
    "    matrix_length = len(MatrixLoc)\n",
    "    no_of_permutations = len(listofpermutations)\n",
    "    arraysol = []\n",
    "    \n",
    "    #generate the multiples (that function we are optimising)\n",
    "    for j in range(no_of_permutations):\n",
    "        perm = listofpermutations[j]\n",
    "        total = 0\n",
    "        for i in range(matrix_length):\n",
    "            for j in range(i,matrix_length):\n",
    "                total += MatrixLoc[i][j]*MatrixFlow[int(perm[i])][int(perm[j])]#this is that function that \n",
    "                                                #adds the products of different combinations of factories\n",
    "        arraysol.append(total)\n",
    "    \n",
    "    finalcost = min(arraysol)\n",
    "    finalindex = np.argmin(arraysol) #finds the optimal set of locations to factories(Which I stupidly \n",
    "                                        #called flow)\n",
    "    end = time.time()\n",
    "    thetime = end - start    \n",
    "    return listofpermutations[finalindex],finalcost,thetime"
   ]
  },
  {
   "cell_type": "markdown",
   "metadata": {},
   "source": [
    "## Wolf pack algorithm\n",
    "### https://www.researchgate.net/publication/275069197_Wolf_Pack_Algorithm_for_Unconstrained_Global_Optimization Wolf Pack Algorithm for Unconstrained Global Optimization Hu-Sheng Wu and Feng-Ming Zhang"
   ]
  },
  {
   "cell_type": "markdown",
   "metadata": {},
   "source": [
    "### So this algorithm describes 3 specific behaviours for wolves. I have redefined them to suit the problem at hand. Read the original journal for the step functions defined for each bhaviour. Otherwise I have kept to the spirit of the algorithm:\n",
    "\n",
    "#### Scouting:\n",
    "Here wolves do medium steps around where they were placed (reasonably randomly) to find a good minimum. Here I am using a last value swap as it is low in computation weight and a good analogy of the circular motion in the original step search\n",
    "\n",
    "#### Calling\n",
    "Here wolves who scouted successfully would call others closer to the lead wolf (the minimum). These are the big steps towards a successful minimum so I will find the initial permutation number (i.e. the main branch of the lead wolf) and will swap it with the wolf in question's leaing value:\n",
    "EG: if the wolf in question is (2,4,6,1,3,5) and (6,5,4,3,2,1) is the current leading wolf, then the wolf in question will become: (6,4,2,1,3,5)\n",
    "This is repeated for the next 2 positions.\n",
    "\n",
    "#### Beseiging\n",
    "Here the wolves surround the lead wolf. Here I will run the 6 permutations the bottom of the branches. This will be the smallest step. The best of these move onto the next step and the cycle repeats.\n"
   ]
  },
  {
   "cell_type": "code",
   "execution_count": null,
   "metadata": {},
   "outputs": [],
   "source": []
  },
  {
   "cell_type": "code",
   "execution_count": 6,
   "metadata": {},
   "outputs": [],
   "source": [
    "def replenish_herd(length,populationsize):\n",
    "    \"\"\"\n",
    "    Input:\n",
    "    length is the size of the matrix\n",
    "    populationsize is the number of permutations you need\n",
    "    \n",
    "    Output:\n",
    "    listofpermutations: list of lists\n",
    "    \"\"\"\n",
    "    listofpermutations= []\n",
    "    triallist = list(range(length))\n",
    "    i = 0\n",
    "    for i in range(populationsize):\n",
    "        random.shuffle(triallist)\n",
    "        dummy = triallist[:]\n",
    "        listofpermutations.append(dummy)\n",
    "    return listofpermutations"
   ]
  },
  {
   "cell_type": "code",
   "execution_count": 51,
   "metadata": {},
   "outputs": [],
   "source": [
    "# Find the minimum\n",
    "def find_minimum(listofpermutations,MatrixLoc,MatrixFlow):\n",
    "    \"\"\"\n",
    "    Input:\n",
    "    list of permutations: a list of lists\n",
    "    \n",
    "    Output:\n",
    "    opt perm: list\n",
    "    opt perm length: float\n",
    "    \"\"\"\n",
    "    matrix_length = len(listofpermutations[0])\n",
    "    arraysol = []\n",
    "    #generate the multiples (that function we are optimising)\n",
    "    for j in listofpermutations:\n",
    "        total = 0\n",
    "        for i in range(matrix_length):\n",
    "            for k in range(matrix_length):\n",
    "                if i!=k:\n",
    "                    total += MatrixLoc[i][k]*MatrixFlow[int(j[i])][int(j[k])]\n",
    "        arraysol.append(total)\n",
    "    finalcost = min(arraysol)\n",
    "    finalindex = np.argmin(arraysol) #finds the optimal set of locations to factories(Which I stupidly \n",
    "                                        #called flow)\n",
    "    return finalcost,finalindex,listofpermutations[finalindex]\n"
   ]
  },
  {
   "cell_type": "code",
   "execution_count": 130,
   "metadata": {},
   "outputs": [],
   "source": [
    "# Find the minimum\n",
    "def find_maximum(listofpermutations,MatrixLoc,MatrixFlow):\n",
    "    \"\"\"\n",
    "    Input:\n",
    "    list of permutations: a list of lists\n",
    "    \n",
    "    Output:\n",
    "    opt perm: list\n",
    "    opt perm length: float\n",
    "    \"\"\"\n",
    "    matrix_length = len(listofpermutations[0])\n",
    "    arraysol = []\n",
    "    #generate the multiples (that function we are optimising)\n",
    "    for j in listofpermutations:\n",
    "        total = 0\n",
    "        for i in range(matrix_length):\n",
    "            for k in range(matrix_length):\n",
    "                if i!=k:\n",
    "                    total += MatrixLoc[i][k]*MatrixFlow[int(j[i])][int(j[k])]\n",
    "        arraysol.append(total)\n",
    "    finalcost = max(arraysol)\n",
    "    finalindex = np.argmax(arraysol) #finds the optimal set of locations to factories(Which I stupidly \n",
    "                                        #called flow)\n",
    "    return finalcost,finalindex,listofpermutations[finalindex]"
   ]
  },
  {
   "cell_type": "code",
   "execution_count": 9,
   "metadata": {},
   "outputs": [],
   "source": [
    "def scout(listofpermutations):\n",
    "    \"\"\"\n",
    "    Input:\n",
    "    listofpermutations: list of lists\n",
    "    \n",
    "    Output:\n",
    "    newlistofpermutations: list of lists\n",
    "    \"\"\"\n",
    "    #All this does is swap the last two positions\n",
    "    for i in listofpermutations:\n",
    "        newlast = i[-2]\n",
    "        oldlast = i[-1]\n",
    "        i[-1] = newlast\n",
    "        i[-2] = oldlast\n",
    "        \n",
    "    return listofpermutations"
   ]
  },
  {
   "cell_type": "code",
   "execution_count": 10,
   "metadata": {},
   "outputs": [],
   "source": [
    "def call(listofpermutations,minindex):\n",
    "    \"\"\"\n",
    "    Input:\n",
    "    listofpermutations: list of lists\n",
    "    minindex: int object with the position of the min list in the list\n",
    "    \n",
    "    Output:\n",
    "    newlistofpermutations: list of lists\n",
    "    \"\"\"\n",
    "    keybranch = listofpermutations[minindex][0]\n",
    "    for i in listofpermutations:\n",
    "        keyindex = i.index(keybranch)\n",
    "        newfirst = i[keyindex]\n",
    "        oldfirst = i[0]\n",
    "        i[0] = newfirst\n",
    "        i[keyindex] = oldfirst\n",
    "    return listofpermutations\n",
    "    "
   ]
  },
  {
   "cell_type": "code",
   "execution_count": 11,
   "metadata": {},
   "outputs": [],
   "source": [
    "def ourpermutations(iterable, r=None):\n",
    "    \"\"\"\n",
    "    Input:\n",
    "    String or numbers separated by a space\n",
    "    optional= the length that the permutations must be\n",
    "    \n",
    "    Output:\n",
    "    a generator of permutations\n",
    "    \"\"\"\n",
    "    \n",
    "    pool = iterable\n",
    "    n = len(pool)\n",
    "    r = n if r is None else r\n",
    "    for indices in product(range(n), repeat=r):\n",
    "        if len(set(indices)) == r:\n",
    "            yield list(pool[i] for i in indices)"
   ]
  },
  {
   "cell_type": "code",
   "execution_count": 12,
   "metadata": {},
   "outputs": [],
   "source": [
    "def beseige(listofpermutations):\n",
    "    #don't forget to catch duplicates before the next search\n",
    "    \"\"\"\n",
    "    Input:\n",
    "    listofpermutations: list of lists\n",
    "    \n",
    "    Output:\n",
    "    newlistofpermutations: list of lists\n",
    "    \"\"\"\n",
    "    newlistofpermutations = []\n",
    "    for i in listofpermutations:\n",
    "        ends = list(ourpermutations(i[-3:]))\n",
    "        for j in ends:\n",
    "            temp = i[:-3]\n",
    "            temp= temp + j\n",
    "            newlistofpermutations.append(temp)\n",
    "    \n",
    "    return newlistofpermutations"
   ]
  },
  {
   "cell_type": "code",
   "execution_count": 56,
   "metadata": {},
   "outputs": [],
   "source": [
    "#rank post-beseige and return desired amount\n",
    "def rankperms(listofpermutations,noofbest,MatrixLoc,MatrixFlow):\n",
    "    \"\"\"\n",
    "    Input:\n",
    "    list of permutations: a list of lists\n",
    "    \n",
    "    Output:\n",
    "    opt perm: list\n",
    "    opt perm length: float\n",
    "    \"\"\"\n",
    "    matrix_length = len(listofpermutations[0])\n",
    "    arraysol = []\n",
    "    \n",
    "    #generate the multiples (that function we are optimising)\n",
    "    for j in listofpermutations:\n",
    "        total = 0\n",
    "        for i in range(matrix_length):\n",
    "            for k in range(matrix_length):\n",
    "                if i != k:\n",
    "                    total += MatrixLoc[i][k]*MatrixFlow[int(j[i])][int(j[k])]\n",
    "        arraysol.append(total) \n",
    "    finalindices = np.argsort(arraysol) #ranks the options\n",
    "    \n",
    "    #takes best number\n",
    "    bestperms = []\n",
    "    for i in range(noofbest):\n",
    "        bestperms.append(listofpermutations[finalindices[i]])\n",
    "    \n",
    "    return bestperms\n"
   ]
  },
  {
   "cell_type": "code",
   "execution_count": null,
   "metadata": {},
   "outputs": [],
   "source": []
  },
  {
   "cell_type": "code",
   "execution_count": 164,
   "metadata": {},
   "outputs": [],
   "source": [
    "def wolfpack(MatrixLoc,MatrixFlow,Totaliterations,packsize,callweight,noofbest):\n",
    "    \"\"\"\n",
    "    Input:\n",
    "    MatrixLoc: input data numpy matrix\n",
    "    MatrixFlow: input data numpy matrix\n",
    "    Totaliterations: int of number of times we run the code (~100)\n",
    "    packsize: int of number wolves each time(~100)\n",
    "    callweight: int number of times we call the wolves(~3)\n",
    "    noofbest: int number of values moving onto the next replenishment(1<noofbest<packsize/2)\n",
    "    \n",
    "    \n",
    "    Output:\n",
    "    optimal weight: float\n",
    "    optimal permutation: list\n",
    "    \"\"\"\n",
    "    #initial values\n",
    "    listofpermutations = []\n",
    "    length = len(MatrixLoc)\n",
    "    \n",
    "\n",
    "    for i in range(Totaliterations):\n",
    "        #filling up the herd\n",
    "        listofpermutations += replenish_herd(length,packsize)\n",
    "        minimumperm = find_minimum(listofpermutations,MatrixLoc,MatrixFlow)[2]\n",
    "        \n",
    "        #scout\n",
    "        listofscouted = scout(listofpermutations)\n",
    "        listofscouted.append(minimumperm)\n",
    "        minimumindex = find_minimum(listofscouted,MatrixLoc,MatrixFlow)[1]\n",
    "        \n",
    "        #call\n",
    "        listofcalled = listofscouted\n",
    "        for i in range(callweight):\n",
    "            listofcalled = call(listofcalled,minimumindex)\n",
    "            minimumindex = find_minimum(listofcalled,MatrixLoc,MatrixFlow)[1]\n",
    "        \n",
    "        #beseige\n",
    "        listofbeseige = beseige(listofcalled)\n",
    "        listofpermutations = rankperms(listofbeseige,noofbest,MatrixLoc,MatrixFlow)\n",
    "        listofpermutations.append(minimumperm)\n",
    "        \n",
    "    return  find_minimum(listofpermutations,MatrixLoc,MatrixFlow)[::2]\n",
    "        "
   ]
  },
  {
   "cell_type": "code",
   "execution_count": null,
   "metadata": {},
   "outputs": [],
   "source": []
  },
  {
   "cell_type": "code",
   "execution_count": 165,
   "metadata": {},
   "outputs": [
    {
     "data": {
      "text/plain": [
       "(142502, [3, 0, 7, 5, 9, 1, 8, 2, 6, 4])"
      ]
     },
     "execution_count": 165,
     "metadata": {},
     "output_type": "execute_result"
    }
   ],
   "source": [
    "Totaliterations = 100\n",
    "packsize = 40\n",
    "callweight = 3\n",
    "noofbest = packsize//3\n",
    "wolfpack(MatrixLoc,MatrixFlow,Totaliterations,packsize,callweight,noofbest)\n"
   ]
  },
  {
   "cell_type": "code",
   "execution_count": 77,
   "metadata": {},
   "outputs": [],
   "source": [
    "#grid search for optimal values\n",
    "def wolfpackcomparisons(test):\n",
    "    \"\"\"\n",
    "    Output:\n",
    "    List of solutions\n",
    "    solution,iteration number,packsize\n",
    "    \"\"\"\n",
    "    wolfsolutions = []\n",
    "    \n",
    "    for q in range(9,12):\n",
    "        datamatrix = CSVtoNumpyArray('tai' + str(q) +'a.csv')\n",
    "        MatrixLoc = datamatrix[0]\n",
    "        MatrixFlow = datamatrix[1]\n",
    "        tempsolutions = []\n",
    "        #print(q,MatrixFlow)\n",
    "        for r in range(3,11):\n",
    "            for s in range(11,13):\n",
    "                tempsol = [wolfpack(MatrixLoc,MatrixFlow,r*10,q*s*2,3,s*5//3),r,s]\n",
    "                #print(tempsol)\n",
    "                tempsolutions.append(tempsol)\n",
    "        wolfsolutions.append(tempsolutions)\n",
    "\n",
    "        \n",
    "    return wolfsolutions"
   ]
  },
  {
   "cell_type": "code",
   "execution_count": 78,
   "metadata": {},
   "outputs": [],
   "source": [
    "soldata = wolfpackcomparisons(True)\n"
   ]
  },
  {
   "cell_type": "code",
   "execution_count": 79,
   "metadata": {},
   "outputs": [
    {
     "data": {
      "text/plain": [
       "[[[(2282, [2, 5, 8, 7, 6, 3, 4, 1, 0]), 3, 11],\n",
       "  [(2306, [3, 4, 0, 1, 2, 5, 8, 6, 7]), 3, 12],\n",
       "  [(2308, [2, 0, 4, 7, 3, 6, 8, 5, 1]), 4, 11],\n",
       "  [(2298, [0, 6, 7, 4, 3, 8, 5, 1, 2]), 4, 12],\n",
       "  [(2286, [3, 4, 0, 1, 2, 8, 5, 6, 7]), 5, 11],\n",
       "  [(2316, [4, 3, 0, 1, 2, 8, 5, 6, 7]), 5, 12],\n",
       "  [(2328, [8, 6, 7, 4, 3, 0, 2, 1, 5]), 6, 11],\n",
       "  [(2282, [2, 5, 8, 7, 6, 3, 4, 1, 0]), 6, 12],\n",
       "  [(2330, [5, 1, 2, 4, 0, 3, 7, 6, 8]), 7, 11],\n",
       "  [(2306, [3, 4, 0, 1, 2, 5, 8, 6, 7]), 7, 12],\n",
       "  [(2282, [2, 5, 8, 7, 6, 3, 4, 1, 0]), 8, 11],\n",
       "  [(2282, [2, 5, 8, 7, 6, 3, 4, 1, 0]), 8, 12],\n",
       "  [(2282, [2, 5, 8, 7, 6, 3, 4, 1, 0]), 9, 11],\n",
       "  [(2282, [2, 5, 8, 7, 6, 3, 4, 1, 0]), 9, 12],\n",
       "  [(2282, [2, 5, 8, 7, 6, 3, 4, 1, 0]), 10, 11],\n",
       "  [(2382, [5, 0, 8, 7, 6, 3, 4, 1, 2]), 10, 12]],\n",
       " [[(152006, [5, 7, 6, 4, 0, 2, 9, 8, 3, 1]), 3, 11],\n",
       "  [(152504, [3, 7, 6, 4, 1, 9, 8, 2, 0, 5]), 3, 12],\n",
       "  [(140122, [8, 0, 7, 4, 9, 1, 3, 2, 6, 5]), 4, 11],\n",
       "  [(150030, [0, 8, 4, 5, 2, 7, 3, 9, 1, 6]), 4, 12],\n",
       "  [(141458, [3, 0, 6, 4, 9, 1, 5, 2, 7, 8]), 5, 11],\n",
       "  [(153004, [2, 0, 8, 4, 1, 9, 6, 3, 7, 5]), 5, 12],\n",
       "  [(149974, [5, 2, 4, 1, 7, 9, 6, 0, 3, 8]), 6, 11],\n",
       "  [(142726, [2, 3, 7, 4, 9, 5, 0, 8, 6, 1]), 6, 12],\n",
       "  [(140112, [0, 9, 5, 4, 7, 8, 3, 6, 2, 1]), 7, 11],\n",
       "  [(147138, [6, 0, 4, 7, 1, 9, 2, 3, 8, 5]), 7, 12],\n",
       "  [(138026, [2, 9, 7, 4, 3, 8, 0, 1, 6, 5]), 8, 11],\n",
       "  [(143856, [9, 0, 7, 4, 6, 2, 1, 3, 5, 8]), 8, 12],\n",
       "  [(147914, [0, 1, 4, 6, 8, 7, 2, 9, 3, 5]), 9, 11],\n",
       "  [(139824, [1, 0, 7, 4, 3, 8, 9, 2, 6, 5]), 9, 12],\n",
       "  [(152158, [7, 2, 4, 6, 5, 9, 1, 0, 3, 8]), 10, 11],\n",
       "  [(144634, [2, 3, 6, 5, 9, 4, 0, 8, 7, 1]), 10, 12]],\n",
       " [[(202966, [1, 8, 6, 10, 0, 4, 2, 5, 9, 3, 7]), 3, 11],\n",
       "  [(208732, [3, 2, 9, 5, 7, 4, 10, 6, 8, 1, 0]), 3, 12],\n",
       "  [(211024, [4, 1, 3, 10, 5, 8, 9, 2, 6, 0, 7]), 4, 11],\n",
       "  [(209172, [1, 10, 5, 4, 3, 0, 6, 9, 7, 8, 2]), 4, 12],\n",
       "  [(210304, [1, 8, 10, 4, 0, 2, 9, 5, 6, 3, 7]), 5, 11],\n",
       "  [(211920, [10, 5, 4, 3, 8, 6, 9, 0, 2, 7, 1]), 5, 12],\n",
       "  [(209128, [10, 6, 5, 4, 3, 8, 0, 1, 9, 7, 2]), 6, 11],\n",
       "  [(206442, [10, 2, 5, 4, 7, 8, 0, 6, 9, 1, 3]), 6, 12],\n",
       "  [(204472, [2, 8, 9, 10, 4, 1, 6, 3, 0, 5, 7]), 7, 11],\n",
       "  [(208620, [6, 3, 4, 1, 9, 10, 8, 0, 2, 7, 5]), 7, 12],\n",
       "  [(202116, [2, 7, 3, 4, 9, 10, 0, 8, 6, 5, 1]), 8, 11],\n",
       "  [(202970, [1, 0, 8, 4, 5, 3, 7, 10, 9, 6, 2]), 8, 12],\n",
       "  [(206834, [3, 0, 6, 4, 9, 8, 5, 2, 7, 1, 10]), 9, 11],\n",
       "  [(202488, [2, 9, 6, 10, 5, 8, 0, 1, 7, 4, 3]), 9, 12],\n",
       "  [(218404, [3, 10, 5, 4, 8, 6, 0, 1, 9, 7, 2]), 10, 11],\n",
       "  [(204238, [2, 5, 6, 4, 9, 1, 0, 8, 7, 10, 3]), 10, 12]]]"
      ]
     },
     "execution_count": 79,
     "metadata": {},
     "output_type": "execute_result"
    }
   ],
   "source": [
    "soldata"
   ]
  },
  {
   "cell_type": "code",
   "execution_count": null,
   "metadata": {},
   "outputs": [],
   "source": [
    "([(['8', '0', '6', '4', '9', '10', '5', '2', '7', '1', '3'],   190016,   3786.5291616916656)],\n",
    " [(['8', '0', '6', '4', '9', '10', '5', '2', '7', '1', '3'],   190016,  3029.7006783485413)], True)"
   ]
  },
  {
   "cell_type": "code",
   "execution_count": 171,
   "metadata": {},
   "outputs": [],
   "source": [
    "def wolfpack30test(start,end,minimum,Totaliterations,packsize):\n",
    "    \"\"\"\n",
    "    Input:\n",
    "    start = int start length\n",
    "    end = int final length +1\n",
    "    minimum,Totaliterations,packsize,callweight = lists of required values\n",
    "    \n",
    "    Output:\n",
    "    percentage successful\n",
    "    \"\"\"\n",
    "    \n",
    "    tot = []\n",
    "    totalindex = 0\n",
    "    \n",
    "    for q in range(start,end):\n",
    "        wolfsolutions = []\n",
    "        datamatrix = CSVtoNumpyArray('tai' + str(q) +'a.csv')\n",
    "        MatrixLoc = datamatrix[0]\n",
    "        MatrixFlow = datamatrix[1]\n",
    "        tempsolutions = []\n",
    "        #print(q,MatrixFlow)\n",
    "        for r in range(30):\n",
    "            tempsol = [wolfpack(MatrixLoc,MatrixFlow,Totaliterations[q-4],packsize[q-4],3,packsize[q-4]//3),r,q]\n",
    "            tempsolutions.append(tempsol)\n",
    "        wolfsolutions.append(tempsolutions)\n",
    "    \n",
    "        total = 0\n",
    "        for i in wolfsolutions[0]:\n",
    "            if i[0][0] == minimum[totalindex]:\n",
    "                total+=1\n",
    "        tot.append(total/30 *100)\n",
    "        totalindex += 1\n",
    "\n",
    "\n",
    "        \n",
    "    return tot"
   ]
  },
  {
   "cell_type": "code",
   "execution_count": null,
   "metadata": {},
   "outputs": [],
   "source": [
    "ans = wolfpack30test(4,12,[790,628,626,1478,1808,2282,135028,190016],[10,30,50,50,100,200,500,500],\n",
    "                     [10,10,20,20,50,100,200,200])\n",
    "ans"
   ]
  },
  {
   "cell_type": "code",
   "execution_count": 100,
   "metadata": {},
   "outputs": [
    {
     "data": {
      "text/plain": [
       "[(824, [3, 2, 1, 0]), 0, 4]"
      ]
     },
     "execution_count": 100,
     "metadata": {},
     "output_type": "execute_result"
    }
   ],
   "source": [
    "ans[0]#[0][0]"
   ]
  },
  {
   "cell_type": "code",
   "execution_count": 127,
   "metadata": {},
   "outputs": [
    {
     "name": "stdout",
     "output_type": "stream",
     "text": [
      "39916800 121\n"
     ]
    }
   ],
   "source": [
    "print(math.factorial(11),11**2)\n"
   ]
  },
  {
   "cell_type": "code",
   "execution_count": 166,
   "metadata": {},
   "outputs": [],
   "source": [
    "def wolfpack_evolution(MatrixLoc,MatrixFlow,Totaliterations,packsize,callweight,noofbest):\n",
    "    \"\"\"\n",
    "    Input:\n",
    "    MatrixLoc: input data numpy matrix\n",
    "    MatrixFlow: input data numpy matrix\n",
    "    Totaliterations: int of number of times we run the code (~100)\n",
    "    packsize: int of number wolves each time(~100)\n",
    "    callweight: int number of times we call the wolves(~3)\n",
    "    noofbest: int number of values moving onto the next replenishment(1<noofbest<packsize/2)\n",
    "    \n",
    "    \n",
    "    Output:\n",
    "    optimal weight: float\n",
    "    optimal permutation: list\n",
    "    \"\"\"\n",
    "    #initial values\n",
    "    listofpermutations = []\n",
    "    length = len(MatrixLoc)\n",
    "    evolution = []\n",
    "\n",
    "    for i in range(Totaliterations):\n",
    "        #filling up the herd\n",
    "        listofpermutations += replenish_herd(length,packsize)\n",
    "        minimumperm = find_minimum(listofpermutations,MatrixLoc,MatrixFlow)[2]\n",
    "        \n",
    "        #scout\n",
    "        listofscouted = scout(listofpermutations)\n",
    "        listofscouted.append(minimumperm)\n",
    "        minimumindex = find_minimum(listofscouted,MatrixLoc,MatrixFlow)[1]\n",
    "        \n",
    "        #call\n",
    "        listofcalled = listofscouted\n",
    "        for i in range(callweight):\n",
    "            listofcalled = call(listofcalled,minimumindex)\n",
    "            minimumindex = find_minimum(listofcalled,MatrixLoc,MatrixFlow)[1]\n",
    "        \n",
    "        #beseige\n",
    "        listofbeseige = beseige(listofcalled)\n",
    "        listofpermutations = rankperms(listofbeseige,noofbest,MatrixLoc,MatrixFlow)\n",
    "        listofpermutations.append(minimumperm)\n",
    "        \n",
    "        #evolution\n",
    "        minimum = find_minimum(listofpermutations,MatrixLoc,MatrixFlow)[0]\n",
    "        maximum = find_maximum(listofpermutations,MatrixLoc,MatrixFlow)[0]\n",
    "        evolution.append([minimum,maximum,i])\n",
    "        \n",
    "    return  find_minimum(listofpermutations,MatrixLoc,MatrixFlow)[::2],evolution\n",
    "        "
   ]
  },
  {
   "cell_type": "code",
   "execution_count": 167,
   "metadata": {},
   "outputs": [
    {
     "data": {
      "text/plain": [
       "((144314, [7, 9, 4, 3, 5, 0, 8, 1, 2, 6]),\n",
       " [[167714, 185820, 2],\n",
       "  [156982, 159122, 2],\n",
       "  [156982, 193486, 2],\n",
       "  [156982, 193486, 2],\n",
       "  [156982, 193486, 2],\n",
       "  [144314, 193486, 2],\n",
       "  [144314, 178340, 2],\n",
       "  [144314, 178340, 2],\n",
       "  [144314, 178340, 2],\n",
       "  [144314, 178340, 2],\n",
       "  [144314, 178340, 2],\n",
       "  [144314, 178340, 2],\n",
       "  [144314, 178340, 2],\n",
       "  [144314, 178340, 2],\n",
       "  [144314, 178340, 2],\n",
       "  [144314, 178340, 2],\n",
       "  [144314, 178340, 2],\n",
       "  [144314, 178340, 2],\n",
       "  [144314, 178340, 2],\n",
       "  [144314, 178340, 2],\n",
       "  [144314, 178340, 2],\n",
       "  [144314, 178340, 2],\n",
       "  [144314, 178340, 2],\n",
       "  [144314, 178340, 2],\n",
       "  [144314, 178340, 2],\n",
       "  [144314, 178340, 2],\n",
       "  [144314, 178340, 2],\n",
       "  [144314, 178340, 2],\n",
       "  [144314, 178340, 2],\n",
       "  [144314, 178340, 2],\n",
       "  [144314, 178340, 2],\n",
       "  [144314, 178340, 2],\n",
       "  [144314, 178340, 2],\n",
       "  [144314, 178340, 2],\n",
       "  [144314, 178340, 2],\n",
       "  [144314, 178340, 2],\n",
       "  [144314, 178340, 2],\n",
       "  [144314, 178340, 2],\n",
       "  [144314, 178340, 2],\n",
       "  [144314, 178340, 2],\n",
       "  [144314, 178340, 2],\n",
       "  [144314, 178340, 2],\n",
       "  [144314, 178340, 2],\n",
       "  [144314, 178340, 2],\n",
       "  [144314, 178340, 2],\n",
       "  [144314, 178340, 2],\n",
       "  [144314, 178340, 2],\n",
       "  [144314, 178340, 2],\n",
       "  [144314, 178340, 2],\n",
       "  [144314, 178340, 2],\n",
       "  [144314, 178340, 2],\n",
       "  [144314, 178340, 2],\n",
       "  [144314, 178340, 2],\n",
       "  [144314, 178340, 2],\n",
       "  [144314, 178340, 2],\n",
       "  [144314, 178340, 2],\n",
       "  [144314, 178340, 2],\n",
       "  [144314, 178340, 2],\n",
       "  [144314, 178340, 2],\n",
       "  [144314, 178340, 2],\n",
       "  [144314, 178340, 2],\n",
       "  [144314, 178340, 2],\n",
       "  [144314, 178340, 2],\n",
       "  [144314, 178340, 2],\n",
       "  [144314, 178340, 2],\n",
       "  [144314, 178340, 2],\n",
       "  [144314, 178340, 2],\n",
       "  [144314, 178340, 2],\n",
       "  [144314, 178340, 2],\n",
       "  [144314, 178340, 2],\n",
       "  [144314, 178340, 2],\n",
       "  [144314, 178340, 2],\n",
       "  [144314, 178340, 2],\n",
       "  [144314, 178340, 2],\n",
       "  [144314, 178340, 2],\n",
       "  [144314, 178340, 2],\n",
       "  [144314, 178340, 2],\n",
       "  [144314, 178340, 2],\n",
       "  [144314, 178340, 2],\n",
       "  [144314, 178340, 2],\n",
       "  [144314, 178340, 2],\n",
       "  [144314, 178340, 2],\n",
       "  [144314, 178340, 2],\n",
       "  [144314, 178340, 2],\n",
       "  [144314, 178340, 2],\n",
       "  [144314, 178340, 2],\n",
       "  [144314, 178340, 2],\n",
       "  [144314, 178340, 2],\n",
       "  [144314, 178340, 2],\n",
       "  [144314, 178340, 2],\n",
       "  [144314, 178340, 2],\n",
       "  [144314, 178340, 2],\n",
       "  [144314, 178340, 2],\n",
       "  [144314, 178340, 2],\n",
       "  [144314, 178340, 2],\n",
       "  [144314, 178340, 2],\n",
       "  [144314, 178340, 2],\n",
       "  [144314, 178340, 2],\n",
       "  [144314, 178340, 2],\n",
       "  [144314, 178340, 2]])"
      ]
     },
     "execution_count": 167,
     "metadata": {},
     "output_type": "execute_result"
    }
   ],
   "source": [
    "datamatrix = CSVtoNumpyArray('tai10a.csv')\n",
    "MatrixLoc = datamatrix[0]\n",
    "MatrixFlow = datamatrix[1]\n",
    "ev = wolfpack_evolution(MatrixLoc,MatrixFlow,100,15,3,4)\n",
    "ev"
   ]
  },
  {
   "cell_type": "code",
   "execution_count": null,
   "metadata": {},
   "outputs": [],
   "source": []
  },
  {
   "cell_type": "markdown",
   "metadata": {},
   "source": [
    "## Random random "
   ]
  },
  {
   "cell_type": "code",
   "execution_count": 541,
   "metadata": {},
   "outputs": [
    {
     "data": {
      "text/plain": [
       "5040"
      ]
     },
     "execution_count": 541,
     "metadata": {},
     "output_type": "execute_result"
    }
   ],
   "source": [
    "math.factorial(7)"
   ]
  },
  {
   "cell_type": "code",
   "execution_count": 542,
   "metadata": {},
   "outputs": [
    {
     "data": {
      "text/plain": [
       "16"
      ]
     },
     "execution_count": 542,
     "metadata": {},
     "output_type": "execute_result"
    }
   ],
   "source": [
    "50//3"
   ]
  },
  {
   "cell_type": "code",
   "execution_count": 41,
   "metadata": {
    "scrolled": true
   },
   "outputs": [
    {
     "name": "stdout",
     "output_type": "stream",
     "text": [
      "0 1 0 8 3 30\n",
      "0 2 0 8 5 0\n",
      "0 3 255 8 2 9\n",
      "0 4 293 8 10 0\n",
      "0 5 328 8 6 0\n",
      "0 6 331 8 11 0\n",
      "0 7 318 8 1 10710\n",
      "0 8 362 8 7 0\n",
      "0 9 221 8 9 867\n",
      "0 10 314 8 0 2911\n",
      "0 11 390 8 4 5399\n",
      "1 0 0 3 8 0\n",
      "1 2 1 3 5 1\n",
      "1 3 255 3 2 62\n",
      "1 4 293 3 10 490\n",
      "1 5 329 3 6 0\n",
      "1 6 331 3 11 0\n",
      "1 7 318 3 1 0\n",
      "1 8 363 3 7 2491\n",
      "1 9 222 3 9 0\n",
      "1 10 314 3 0 27\n",
      "1 11 390 3 4 0\n",
      "2 0 0 5 8 41986\n",
      "2 1 1 5 3 0\n",
      "2 3 255 5 2 7\n",
      "2 4 293 5 10 5\n",
      "2 5 328 5 6 9\n",
      "2 6 330 5 11 0\n",
      "2 7 318 5 1 3797\n",
      "2 8 362 5 7 0\n",
      "2 9 221 5 9 19780\n",
      "2 10 313 5 0 0\n",
      "2 11 390 5 4 0\n",
      "3 0 255 2 8 0\n",
      "3 1 255 2 3 0\n",
      "3 2 255 2 5 0\n",
      "3 4 93 2 10 0\n",
      "3 5 120 2 6 1\n",
      "3 6 106 2 11 0\n",
      "3 7 106 2 1 0\n",
      "3 8 113 2 7 0\n",
      "3 9 81 2 9 0\n",
      "3 10 63 2 0 25642\n",
      "3 11 195 2 4 2\n",
      "4 0 293 10 8 5\n",
      "4 1 293 10 3 0\n",
      "4 2 293 10 5 2791\n",
      "4 3 93 10 2 0\n",
      "4 5 35 10 6 0\n",
      "4 6 42 10 11 0\n",
      "4 7 25 10 1 1\n",
      "4 8 95 10 7 0\n",
      "4 9 72 10 9 7632\n",
      "4 10 75 10 0 0\n",
      "4 11 107 10 4 12262\n",
      "5 0 328 6 8 0\n",
      "5 1 329 6 3 93\n",
      "5 2 328 6 5 5\n",
      "5 3 120 6 2 1\n",
      "5 4 35 6 10 39\n",
      "5 6 24 6 11 759\n",
      "5 7 13 6 1 14543\n",
      "5 8 82 6 7 3720\n",
      "5 9 107 6 9 2\n",
      "5 10 82 6 0 948\n",
      "5 11 75 6 4 0\n",
      "6 0 331 11 8 0\n",
      "6 1 331 11 3 0\n",
      "6 2 330 11 5 49\n",
      "6 3 106 11 2 0\n",
      "6 4 42 11 10 35539\n",
      "6 5 24 11 6 1\n",
      "6 7 20 11 1 36146\n",
      "6 8 59 11 7 19\n",
      "6 9 111 11 9 0\n",
      "6 10 60 11 0 0\n",
      "6 11 91 11 4 525\n",
      "7 0 318 1 8 2\n",
      "7 1 318 1 3 1064\n",
      "7 2 318 1 5 0\n",
      "7 3 106 1 2 14568\n",
      "7 4 25 1 10 0\n",
      "7 5 13 1 6 58098\n",
      "7 6 20 1 11 57\n",
      "7 8 78 1 7 6273\n",
      "7 9 97 1 9 3\n",
      "7 10 71 1 0 1\n",
      "7 11 89 1 4 4\n",
      "8 0 362 7 8 0\n",
      "8 1 363 7 3 8\n",
      "8 2 362 7 5 2\n",
      "8 3 113 7 2 0\n",
      "8 4 95 7 10 0\n",
      "8 5 82 7 6 3516\n",
      "8 6 59 7 11 20364\n",
      "8 7 78 7 1 0\n",
      "8 9 152 7 9 2106\n",
      "8 10 50 7 0 0\n",
      "8 11 129 7 4 0\n",
      "9 0 221 9 8 0\n",
      "9 1 222 9 3 264\n",
      "9 2 221 9 5 1\n",
      "9 3 81 9 2 47029\n",
      "9 4 72 9 10 0\n",
      "9 5 107 9 6 5417\n",
      "9 6 111 9 11 0\n",
      "9 7 97 9 1 3\n",
      "9 8 152 9 7 0\n",
      "9 10 111 9 0 0\n",
      "9 11 173 9 4 4880\n",
      "10 0 314 0 8 0\n",
      "10 1 314 0 3 1\n",
      "10 2 313 0 5 14261\n",
      "10 3 63 0 2 5\n",
      "10 4 75 0 10 36\n",
      "10 5 82 0 6 246\n",
      "10 6 60 0 11 1828\n",
      "10 7 71 0 1 0\n",
      "10 8 50 0 7 55342\n",
      "10 9 111 0 9 1\n",
      "10 11 150 0 4 1\n",
      "11 0 390 4 8 0\n",
      "11 1 390 4 3 0\n",
      "11 2 390 4 5 0\n",
      "11 3 195 4 2 0\n",
      "11 4 107 4 10 1036\n",
      "11 5 75 4 6 456\n",
      "11 6 91 4 11 0\n",
      "11 7 89 4 1 57\n",
      "11 8 129 4 7 9591\n",
      "11 9 173 4 9 0\n",
      "11 10 150 4 0 0\n"
     ]
    },
    {
     "data": {
      "text/plain": [
       "39464925"
      ]
     },
     "execution_count": 41,
     "metadata": {},
     "output_type": "execute_result"
    }
   ],
   "source": [
    "perm = [3, 5, 1, 2, 8, 0, 6, 10, 7, 4, 11, 9]\n",
    "perm= [8,1,6,2,11,10,3,5,9,7,12,4]\n",
    "perm = [9,4,6,3,11,7,12,2,8,10,1,5]\n",
    "#perm = [3,20,7,18,9,12,19,4,10,11,1,6,15,8,2,5,14,16,13,17]\n",
    "perm = [perm[i] - 1 for i in range(len(perm))]\n",
    "matrix_length = len(perm)\n",
    "total = 0\n",
    "for i in range(matrix_length):\n",
    "    for j in range(matrix_length):\n",
    "        if i!=j:\n",
    "            print(i,j,MatrixLoc[i][j],perm[i],perm[j],MatrixFlow[int(perm[i])][int(perm[j])])\n",
    "            total += MatrixLoc[i][j]*MatrixFlow[int(perm[i])][int(perm[j])]\n",
    "total"
   ]
  },
  {
   "cell_type": "code",
   "execution_count": 33,
   "metadata": {},
   "outputs": [
    {
     "data": {
      "text/plain": [
       "39541160"
      ]
     },
     "execution_count": 33,
     "metadata": {},
     "output_type": "execute_result"
    }
   ],
   "source": [
    "19770580*2"
   ]
  },
  {
   "cell_type": "code",
   "execution_count": 35,
   "metadata": {},
   "outputs": [
    {
     "data": {
      "text/plain": [
       "array([[    0,     0,     5,     1,     1, 14261,   246, 55342,     0,\n",
       "            1,    36,  1828],\n",
       "       [    1,     0, 14568,  1064,     4,     0, 58098,  6273,     2,\n",
       "            3,     0,    57],\n",
       "       [25642,     0,     0,     0,     2,     0,     1,     0,     0,\n",
       "            0,     0,     0],\n",
       "       [   27,     0,    62,     0,     0,     1,     0,  2491,     0,\n",
       "            0,   490,     0],\n",
       "       [    0,    57,     0,     0,     0,     0,   456,  9591,     0,\n",
       "            0,  1036,     0],\n",
       "       [    0,  3797,     7,     0,     0,     0,     9,     0, 41986,\n",
       "        19780,     5,     0],\n",
       "       [  948, 14543,     1,    93,     0,     5,     0,  3720,     0,\n",
       "            2,    39,   759],\n",
       "       [    0,     0,     0,     8,     0,     2,  3516,     0,     0,\n",
       "         2106,     0, 20364],\n",
       "       [ 2911, 10710,     9,    30,  5399,     0,     0,     0,     0,\n",
       "          867,     0,     0],\n",
       "       [    0,     3, 47029,   264,  4880,     1,  5417,     0,     0,\n",
       "            0,     0,     0],\n",
       "       [    0,     1,     0,     0, 12262,  2791,     0,     0,     5,\n",
       "         7632,     0,     0],\n",
       "       [    0, 36146,     0,     0,   525,    49,     1,    19,     0,\n",
       "            0, 35539,     0]])"
      ]
     },
     "execution_count": 35,
     "metadata": {},
     "output_type": "execute_result"
    }
   ],
   "source": [
    "MatrixFlow"
   ]
  },
  {
   "cell_type": "code",
   "execution_count": null,
   "metadata": {},
   "outputs": [],
   "source": []
  }
 ],
 "metadata": {
  "kernelspec": {
   "display_name": "Python 3",
   "language": "python",
   "name": "python3"
  },
  "language_info": {
   "codemirror_mode": {
    "name": "ipython",
    "version": 3
   },
   "file_extension": ".py",
   "mimetype": "text/x-python",
   "name": "python",
   "nbconvert_exporter": "python",
   "pygments_lexer": "ipython3",
   "version": "3.7.3"
  }
 },
 "nbformat": 4,
 "nbformat_minor": 2
}
