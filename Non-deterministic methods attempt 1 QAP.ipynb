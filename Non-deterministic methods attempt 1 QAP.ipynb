{
 "cells": [
  {
   "cell_type": "markdown",
   "metadata": {},
   "source": [
    "# The Quadratic Assignment Problem"
   ]
  },
  {
   "cell_type": "code",
   "execution_count": 351,
   "metadata": {},
   "outputs": [],
   "source": [
    "##This is an initialization cell. Run this first\n",
    "import pandas as pd\n",
    "import numpy as np\n",
    "from itertools import product\n",
    "import time\n",
    "import math\n",
    "import matplotlib\n",
    "import matplotlib.pyplot as plt\n",
    "import random"
   ]
  },
  {
   "cell_type": "markdown",
   "metadata": {},
   "source": [
    "## Repository"
   ]
  },
  {
   "cell_type": "code",
   "execution_count": 352,
   "metadata": {},
   "outputs": [],
   "source": [
    "def CSVtoNumpyArray(rawdata):\n",
    "    \"\"\"\n",
    "    Input: \n",
    "    rawdata = a csv file (insert name as a string)\n",
    "\n",
    "    Output:\n",
    "    two numpy matrices in a tuple\n",
    "    \"\"\"\n",
    "    data = pd.read_csv(rawdata)  #Reads the data in as a pandas object\n",
    "    c = data.columns\n",
    "    column = int(c[0])\n",
    "    final_data1 = data.iloc[:column,:].values  #Sets data into a series of numpy arrays of strings\n",
    "    final_data2 = data.iloc[column:,:].values  #1 is for the first matrix(loc) and 2 is for the second(flow)\n",
    "    \n",
    "\n",
    "    #Forms the matrix as a numpy array (easier to work with) instead of an list of lists of strings\n",
    "    def string_to_integers(final_data):\n",
    "        matrix = []\n",
    "        for j in range(column):\n",
    "            string = final_data[j][0]\n",
    "            string2 = string.split(\" \")\n",
    "            emptyarray = []\n",
    "            for i in string2:\n",
    "                if i != '':\n",
    "                    emptyarray.append(int(i))\n",
    "            matrix.append(emptyarray)\n",
    "        npmatrix = np.array(matrix) \n",
    "        return npmatrix\n",
    "    return string_to_integers(final_data1),string_to_integers(final_data2)"
   ]
  },
  {
   "cell_type": "code",
   "execution_count": 353,
   "metadata": {},
   "outputs": [],
   "source": [
    "#REPOSITORY\n",
    "\n",
    "#small sized matrices(under 10x10)\n",
    "matrix_size_4 = 'tai4a.csv'\n",
    "matrix_size_5 = 'tai5a.csv'\n",
    "matrix_size_6 = 'tai6a.csv'\n",
    "matrix_size_7 = 'tai7a.csv'\n",
    "matrix_size_8 = 'tai8a.csv'\n",
    "matrix_size_9 = 'tai9a.csv'\n",
    "\n",
    "#medium sized matrices(ranging from 10x10 to 30x30)\n",
    "matrix_size_10 = 'tai10a.csv'\n",
    "matrix_size_11 = 'tai11a.csv'\n",
    "matrix_size_12 = 'tai12a.csv'\n",
    "matrix_size_15 = 'chr15a.csv' \n",
    "matrix_size_20 = 'chr20a.csv'\n",
    "matrix_size_26 = 'bur26a.csv'\n",
    "\n",
    "#large sized matrices(30x30 and bigger)\n",
    "matrix_size_40 = 'tai40a.csv'\n",
    "matrix_size_60 = 'tai60.csv'\n",
    "matrix_size_80 = 'tai80.csv'\n",
    "matrix_size_256 = 'tai256c.csv'\n",
    "\n",
    "datamatrix = CSVtoNumpyArray(matrix_size_40) # Decide the size of problem to run in the code \n",
    "                                            # (clue: the number in the original name is the size)\n",
    "MatrixLoc = datamatrix[0]\n",
    "MatrixFlow = datamatrix[1]"
   ]
  },
  {
   "cell_type": "markdown",
   "metadata": {},
   "source": [
    "## Preliminary functions"
   ]
  },
  {
   "cell_type": "code",
   "execution_count": 354,
   "metadata": {},
   "outputs": [],
   "source": [
    "def Exhaustive_search(listofpermutations,MatrixLocat,MatrixFlow):\n",
    "    \"\"\"\n",
    "    Input:\n",
    "    MatrixLoc\n",
    "    MatrixFlow\n",
    "    listofpermutations\n",
    "    \n",
    "    Output:\n",
    "    The optimal permutation\n",
    "    the optimal cost\n",
    "    in a tuple\n",
    "    \"\"\"\n",
    "    start = time.time()\n",
    "    matrix_length = len(MatrixLoc)\n",
    "    no_of_permutations = len(listofpermutations)\n",
    "    arraysol = []\n",
    "    \n",
    "    #generate the multiples (that function we are optimising)\n",
    "    for j in range(no_of_permutations):\n",
    "        perm = listofpermutations[j]\n",
    "        total = 0\n",
    "        for i in range(matrix_length - 1):\n",
    "            total += MatrixLoc[i][i+1]*MatrixFlow[int(perm[i])][int(perm[i+1])]#this is that function that \n",
    "                                                #adds the products of different combinations of factories\n",
    "        arraysol.append(total)\n",
    "    \n",
    "    finalcost = min(arraysol)\n",
    "    finalindex = np.argmin(arraysol) #finds the optimal set of locations to factories(Which I stupidly \n",
    "                                        #called flow)\n",
    "    end = time.time()\n",
    "    thetime = end - start    \n",
    "    return listofpermutations[finalindex],finalcost,thetime"
   ]
  },
  {
   "cell_type": "markdown",
   "metadata": {},
   "source": [
    "## Wolf pack algorithm\n",
    "### https://www.hindawi.com/journals/mpe/2014/465082/ Wolf Pack Algorithm for Unconstrained Global Optimization Hu-Sheng Wu and Feng-Ming Zhang"
   ]
  },
  {
   "cell_type": "markdown",
   "metadata": {},
   "source": [
    "### So this algorithm describes 3 specific behaviours for wolves. I have redefined them to suit the problem at hand. Read the original journal for the step functions defined for each bhaviour. Otherwise I have kept to the spirit of the algorithm:\n",
    "\n",
    "#### Scouting:\n",
    "Here wolves do medium steps around where they were placed (reasonably randomly) to find a good minimum. Here I am using a last value swap as it is low in computation weight and a good analogy of the circular motion in the original step search\n",
    "\n",
    "#### Calling\n",
    "Here wolves who scouted successfully would call others closer to the lead wolf (the minimum). These are the big steps towards a successful minimum so I will find the initial permutation number (i.e. the main branch of the lead wolf) and will swap it with the wolf in question's leaing value:\n",
    "EG: if the wolf in question is (2,4,6,1,3,5) and (6,5,4,3,2,1) is the current leading wolf, then the wolf in question will become: (6,4,2,1,3,5)\n",
    "This is repeated for the next 2 positions.\n",
    "\n",
    "#### Beseiging\n",
    "Here the wolves surround the lead wolf. Here I will run the 6 permutations the bottom of the branches. This will be the smallest step. The best of these move onto the next step and the cycle repeats.\n"
   ]
  },
  {
   "cell_type": "code",
   "execution_count": 355,
   "metadata": {},
   "outputs": [],
   "source": [
    "def replenish_herd(length,populationsize):\n",
    "    \"\"\"\n",
    "    Input:\n",
    "    length is the size of the matrix\n",
    "    populationsize is the number of permutations you need\n",
    "    \n",
    "    Output:\n",
    "    listofpermutations: list of lists\n",
    "    \"\"\"\n",
    "    listofpermutations= []\n",
    "    triallist = list(range(length))\n",
    "    i = 0\n",
    "    for i in range(populationsize):\n",
    "        random.shuffle(triallist)\n",
    "        dummy = triallist[:]\n",
    "        listofpermutations.append(dummy)\n",
    "    return listofpermutations"
   ]
  },
  {
   "cell_type": "code",
   "execution_count": 356,
   "metadata": {},
   "outputs": [],
   "source": [
    "# Find the minimum\n",
    "def find_minimum(listofpermutations):\n",
    "    \"\"\"\n",
    "    Input:\n",
    "    list of permutations: a list of lists\n",
    "    \n",
    "    Output:\n",
    "    opt perm: list\n",
    "    opt perm length: float\n",
    "    \"\"\"\n",
    "    matrix_length = len(listofpermutations[0])\n",
    "    arraysol = []\n",
    "    #generate the multiples (that function we are optimising)\n",
    "    for j in listofpermutations:\n",
    "        total = 0\n",
    "        for i in range(matrix_length - 1):\n",
    "            if MatrixLoc[i][i+1] != 0 and MatrixFlow[int(j[i])][int(j[i+1])] != 0:\n",
    "                total += MatrixLoc[i][i+1]*MatrixFlow[int(j[i])][int(j[i+1])]#this is that function that \n",
    "                                                #adds the products of different combinations of factories\n",
    "            else:\n",
    "                total = math.inf\n",
    "        arraysol.append(total)\n",
    "    finalcost = min(arraysol)\n",
    "    finalindex = np.argmin(arraysol) #finds the optimal set of locations to factories(Which I stupidly \n",
    "                                        #called flow)\n",
    "    return finalcost,finalindex,listofpermutations[finalindex]\n"
   ]
  },
  {
   "cell_type": "code",
   "execution_count": 357,
   "metadata": {},
   "outputs": [],
   "source": [
    "def scout(listofpermutations):\n",
    "    \"\"\"\n",
    "    Input:\n",
    "    listofpermutations: list of lists\n",
    "    \n",
    "    Output:\n",
    "    newlistofpermutations: list of lists\n",
    "    \"\"\"\n",
    "    #All this does is swap the last two positions\n",
    "    for i in listofpermutations:\n",
    "        newlast = i[-2]\n",
    "        oldlast = i[-1]\n",
    "        i[-1] = newlast\n",
    "        i[-2] = oldlast\n",
    "        \n",
    "    return listofpermutations"
   ]
  },
  {
   "cell_type": "code",
   "execution_count": 358,
   "metadata": {},
   "outputs": [],
   "source": [
    "def call(listofpermutations,minindex):\n",
    "    \"\"\"\n",
    "    Input:\n",
    "    listofpermutations: list of lists\n",
    "    minindex: int object with the position of the min list in the list\n",
    "    \n",
    "    Output:\n",
    "    newlistofpermutations: list of lists\n",
    "    \"\"\"\n",
    "    keybranch = listofpermutations[minindex][0]\n",
    "    for i in listofpermutations:\n",
    "        keyindex = i.index(keybranch)\n",
    "        newfirst = i[keyindex]\n",
    "        oldfirst = i[0]\n",
    "        i[0] = newfirst\n",
    "        i[keyindex] = oldfirst\n",
    "    return listofpermutations\n",
    "    "
   ]
  },
  {
   "cell_type": "code",
   "execution_count": 359,
   "metadata": {},
   "outputs": [],
   "source": [
    "def ourpermutations(iterable, r=None):\n",
    "    \"\"\"\n",
    "    Input:\n",
    "    String or numbers separated by a space\n",
    "    optional= the length that the permutations must be\n",
    "    \n",
    "    Output:\n",
    "    a generator of permutations\n",
    "    \"\"\"\n",
    "    \n",
    "    pool = iterable\n",
    "    n = len(pool)\n",
    "    r = n if r is None else r\n",
    "    for indices in product(range(n), repeat=r):\n",
    "        if len(set(indices)) == r:\n",
    "            yield list(pool[i] for i in indices)"
   ]
  },
  {
   "cell_type": "code",
   "execution_count": 360,
   "metadata": {},
   "outputs": [],
   "source": [
    "def beseige(listofpermutations):\n",
    "    #don't forget to catch duplicates before the next search\n",
    "    \"\"\"\n",
    "    Input:\n",
    "    listofpermutations: list of lists\n",
    "    \n",
    "    Output:\n",
    "    newlistofpermutations: list of lists\n",
    "    \"\"\"\n",
    "    newlistofpermutations = []\n",
    "    for i in listofpermutations:\n",
    "        ends = list(ourpermutations(i[-3:]))\n",
    "        for j in ends:\n",
    "            temp = i[:-3]\n",
    "            temp= temp + j\n",
    "            newlistofpermutations.append(temp)\n",
    "    \n",
    "    return newlistofpermutations"
   ]
  },
  {
   "cell_type": "code",
   "execution_count": 361,
   "metadata": {},
   "outputs": [],
   "source": [
    "#rank post-beseige and return desired amount\n",
    "def rankperms(listofpermutations,noofbest):\n",
    "    \"\"\"\n",
    "    Input:\n",
    "    list of permutations: a list of lists\n",
    "    \n",
    "    Output:\n",
    "    opt perm: list\n",
    "    opt perm length: float\n",
    "    \"\"\"\n",
    "    matrix_length = len(listofpermutations[0])\n",
    "    arraysol = []\n",
    "    \n",
    "    #generate the multiples (that function we are optimising)\n",
    "    for j in listofpermutations:\n",
    "        total = 0\n",
    "        for i in range(matrix_length - 1):\n",
    "            if MatrixLoc[i][i+1] != 0 and MatrixFlow[int(j[i])][int(j[i+1])] != 0:\n",
    "                total += MatrixLoc[i][i+1]*MatrixFlow[int(j[i])][int(j[i+1])]#this is that function that \n",
    "                                                #adds the products of different combinations of factories\n",
    "            else:\n",
    "                total = math.inf\n",
    "        arraysol.append(total) \n",
    "    finalindices = np.argsort(arraysol) #ranks the options\n",
    "    \n",
    "    #takes best number\n",
    "    bestperms = []\n",
    "    for i in range(noofbest):\n",
    "        bestperms.append(listofpermutations[finalindices[i]])\n",
    "    \n",
    "    return bestperms\n"
   ]
  },
  {
   "cell_type": "code",
   "execution_count": null,
   "metadata": {},
   "outputs": [],
   "source": []
  },
  {
   "cell_type": "code",
   "execution_count": 362,
   "metadata": {},
   "outputs": [],
   "source": [
    "def wolfpack(MatrixLocat,MatrixFlow,Totaliterations,packsize,callweight,noofbest):\n",
    "    \"\"\"\n",
    "    Input:\n",
    "    MatrixLocat: input data numpy matrix\n",
    "    MatrixFlow: input data numpy matrix\n",
    "    Totaliterations: int of number of times we run the code (~100)\n",
    "    packsize: int of number wolves each time(~100)\n",
    "    callweight: int number of times we call the wolves(~3)\n",
    "    noofbest: int number of values moving onto the next replenishment(1<noofbest<packsize/2)\n",
    "    \n",
    "    \n",
    "    Output:\n",
    "    optimal weight: float\n",
    "    optimal permutation: list\n",
    "    \"\"\"\n",
    "    #initial values\n",
    "    listofpermutations = []\n",
    "    length = len(MatrixLocat)\n",
    "    \n",
    "\n",
    "    for i in range(Totaliterations):\n",
    "        #filling up the herd\n",
    "        listofpermutations += replenish_herd(length,packsize)\n",
    "        minimumperm = find_minimum(listofpermutations)[2]\n",
    "        \n",
    "        #scout\n",
    "        listofscouted = scout(listofpermutations)\n",
    "        listofscouted.append(minimumperm)\n",
    "        minimumindex = find_minimum(listofscouted)[1]\n",
    "        \n",
    "        #call\n",
    "        listofcalled = listofscouted\n",
    "        for i in range(callweight):\n",
    "            listofcalled = call(listofcalled,minimumindex)\n",
    "            minimumindex = find_minimum(listofscouted)[1]\n",
    "        \n",
    "        #beseige\n",
    "        listofbeseige = beseige(listofpermutations)\n",
    "        listofpermutations = rankperms(listofbeseige,noofbest)\n",
    "        \n",
    "    return  find_minimum(listofpermutations)[::2]\n",
    "        "
   ]
  },
  {
   "cell_type": "code",
   "execution_count": null,
   "metadata": {},
   "outputs": [],
   "source": []
  },
  {
   "cell_type": "code",
   "execution_count": 363,
   "metadata": {},
   "outputs": [
    {
     "data": {
      "text/plain": [
       "(72233,\n",
       " [29,\n",
       "  17,\n",
       "  34,\n",
       "  31,\n",
       "  3,\n",
       "  26,\n",
       "  39,\n",
       "  4,\n",
       "  16,\n",
       "  21,\n",
       "  36,\n",
       "  19,\n",
       "  27,\n",
       "  6,\n",
       "  20,\n",
       "  12,\n",
       "  15,\n",
       "  9,\n",
       "  22,\n",
       "  35,\n",
       "  32,\n",
       "  37,\n",
       "  0,\n",
       "  25,\n",
       "  30,\n",
       "  5,\n",
       "  24,\n",
       "  8,\n",
       "  10,\n",
       "  7,\n",
       "  38,\n",
       "  2,\n",
       "  13,\n",
       "  14,\n",
       "  11,\n",
       "  28,\n",
       "  1,\n",
       "  33,\n",
       "  23,\n",
       "  18])"
      ]
     },
     "execution_count": 363,
     "metadata": {},
     "output_type": "execute_result"
    }
   ],
   "source": [
    "Totaliterations = 100\n",
    "packsize = 50\n",
    "callweight = 3\n",
    "noofbest = 50//3\n",
    "wolfpack(MatrixLoc,MatrixFlow,Totaliterations,packsize,callweight,noofbest)"
   ]
  },
  {
   "cell_type": "markdown",
   "metadata": {},
   "source": [
    "## Random random "
   ]
  },
  {
   "cell_type": "code",
   "execution_count": 18,
   "metadata": {},
   "outputs": [
    {
     "data": {
      "text/plain": [
       "39916800"
      ]
     },
     "execution_count": 18,
     "metadata": {},
     "output_type": "execute_result"
    }
   ],
   "source": [
    "math.factorial(11)"
   ]
  },
  {
   "cell_type": "code",
   "execution_count": 239,
   "metadata": {},
   "outputs": [
    {
     "data": {
      "text/plain": [
       "16"
      ]
     },
     "execution_count": 239,
     "metadata": {},
     "output_type": "execute_result"
    }
   ],
   "source": [
    "50//3"
   ]
  },
  {
   "cell_type": "code",
   "execution_count": null,
   "metadata": {},
   "outputs": [],
   "source": []
  }
 ],
 "metadata": {
  "kernelspec": {
   "display_name": "Python 3",
   "language": "python",
   "name": "python3"
  },
  "language_info": {
   "codemirror_mode": {
    "name": "ipython",
    "version": 3
   },
   "file_extension": ".py",
   "mimetype": "text/x-python",
   "name": "python",
   "nbconvert_exporter": "python",
   "pygments_lexer": "ipython3",
   "version": "3.7.1"
  }
 },
 "nbformat": 4,
 "nbformat_minor": 2
}
